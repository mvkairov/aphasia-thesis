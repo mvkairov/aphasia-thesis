{
 "cells": [
  {
   "cell_type": "code",
   "execution_count": 1,
   "metadata": {},
   "outputs": [],
   "source": [
    "%load_ext autoreload\n",
    "%autoreload 2"
   ]
  },
  {
   "cell_type": "code",
   "execution_count": 2,
   "metadata": {},
   "outputs": [],
   "source": [
    "import sys\n",
    "sys.path.append('../')"
   ]
  },
  {
   "cell_type": "code",
   "execution_count": 10,
   "metadata": {},
   "outputs": [],
   "source": [
    "from aphasia.data.tabular import get_tabular_data\n",
    "from aphasia.models.cvae import CVAE\n",
    "from aphasia.models.train import train_cvae, generate_from_cvae\n",
    "from aphasia.models.tab_search import cross_validate\n",
    "from aphasia.common.utils import make_cm\n",
    "\n",
    "from sklearn.preprocessing import label_binarize\n",
    "import tensorflow as tf\n",
    "import keras\n",
    "import wandb\n",
    "import numpy as np\n",
    "import matplotlib.pyplot as plt"
   ]
  },
  {
   "cell_type": "code",
   "execution_count": 4,
   "metadata": {},
   "outputs": [],
   "source": [
    "BATCH_SIZE = 4\n",
    "N_CLASSES = 7\n",
    "LATENT_DIM = 7\n",
    "N_EPOCHS = 25"
   ]
  },
  {
   "cell_type": "code",
   "execution_count": 5,
   "metadata": {},
   "outputs": [],
   "source": [
    "X, y = get_tabular_data('white', path_to_data='../datasets')\n",
    "y = tf.convert_to_tensor(label_binarize(y, classes=list(range(N_CLASSES))), dtype=tf.float32)\n",
    "\n",
    "dataset = tf.data.Dataset.from_tensor_slices((X, y)).batch(BATCH_SIZE)"
   ]
  },
  {
   "cell_type": "code",
   "execution_count": 6,
   "metadata": {},
   "outputs": [],
   "source": [
    "enc_layers = {\n",
    "    'fc': {\n",
    "        'units': 32,\n",
    "        'activation': 'relu'\n",
    "    },\n",
    "    'bn': {},\n",
    "    'fc': {\n",
    "        'units': 16,\n",
    "        'activation': 'relu'\n",
    "    },\n",
    "    'bn': {}\n",
    "}\n",
    "\n",
    "dec_layers = {\n",
    "    'fc': {\n",
    "        'units': 16,\n",
    "        'activation': 'relu'\n",
    "    },\n",
    "    'bn': {},\n",
    "    'fc': {\n",
    "        'units': 32,\n",
    "        'activation': 'relu'\n",
    "    },\n",
    "    'bn': {}\n",
    "}"
   ]
  },
  {
   "cell_type": "code",
   "execution_count": 7,
   "metadata": {},
   "outputs": [],
   "source": [
    "model = CVAE(enc_layers, dec_layers, X.shape[1], LATENT_DIM, N_CLASSES)\n",
    "optim = keras.optimizers.legacy.RMSprop()"
   ]
  },
  {
   "cell_type": "code",
   "execution_count": 8,
   "metadata": {},
   "outputs": [
    {
     "name": "stderr",
     "output_type": "stream",
     "text": [
      " 11%|█         | 11/98 [00:00<00:02, 36.37it/s]"
     ]
    },
    {
     "name": "stdout",
     "output_type": "stream",
     "text": [
      "EPOCH 0. Loss = [0.24372572 0.2955734  0.33935973 0.27780202]\n"
     ]
    },
    {
     "name": "stderr",
     "output_type": "stream",
     "text": [
      "100%|██████████| 98/98 [00:02<00:00, 41.31it/s]\n",
      " 10%|█         | 10/98 [00:00<00:02, 43.47it/s]"
     ]
    },
    {
     "name": "stdout",
     "output_type": "stream",
     "text": [
      "EPOCH 1. Loss = [0.07844175 0.07079442 0.11164055 0.06997484]\n"
     ]
    },
    {
     "name": "stderr",
     "output_type": "stream",
     "text": [
      "100%|██████████| 98/98 [00:02<00:00, 43.83it/s]\n",
      "  8%|▊         | 8/98 [00:00<00:02, 37.67it/s]"
     ]
    },
    {
     "name": "stdout",
     "output_type": "stream",
     "text": [
      "EPOCH 2. Loss = [0.05228061 0.07848828 0.08886528 0.04508639]\n"
     ]
    },
    {
     "name": "stderr",
     "output_type": "stream",
     "text": [
      "100%|██████████| 98/98 [00:02<00:00, 41.34it/s]\n",
      " 10%|█         | 10/98 [00:00<00:02, 43.72it/s]"
     ]
    },
    {
     "name": "stdout",
     "output_type": "stream",
     "text": [
      "EPOCH 3. Loss = [0.05208264 0.0896014  0.07446549 0.05722504]\n"
     ]
    },
    {
     "name": "stderr",
     "output_type": "stream",
     "text": [
      "100%|██████████| 98/98 [00:02<00:00, 43.78it/s]\n",
      " 10%|█         | 10/98 [00:00<00:02, 43.42it/s]"
     ]
    },
    {
     "name": "stdout",
     "output_type": "stream",
     "text": [
      "EPOCH 4. Loss = [0.03263684 0.09589501 0.07602251 0.05348689]\n"
     ]
    },
    {
     "name": "stderr",
     "output_type": "stream",
     "text": [
      "100%|██████████| 98/98 [00:02<00:00, 43.22it/s]\n",
      " 10%|█         | 10/98 [00:00<00:02, 42.27it/s]"
     ]
    },
    {
     "name": "stdout",
     "output_type": "stream",
     "text": [
      "EPOCH 5. Loss = [0.03930896 0.06560341 0.08009905 0.03278493]\n"
     ]
    },
    {
     "name": "stderr",
     "output_type": "stream",
     "text": [
      "100%|██████████| 98/98 [00:02<00:00, 40.59it/s]\n",
      " 10%|█         | 10/98 [00:00<00:02, 42.88it/s]"
     ]
    },
    {
     "name": "stdout",
     "output_type": "stream",
     "text": [
      "EPOCH 6. Loss = [0.05322237 0.09095974 0.06978828 0.03795423]\n"
     ]
    },
    {
     "name": "stderr",
     "output_type": "stream",
     "text": [
      "100%|██████████| 98/98 [00:02<00:00, 43.51it/s]\n",
      " 10%|█         | 10/98 [00:00<00:02, 43.57it/s]"
     ]
    },
    {
     "name": "stdout",
     "output_type": "stream",
     "text": [
      "EPOCH 7. Loss = [0.03762933 0.07356856 0.07853644 0.03491488]\n"
     ]
    },
    {
     "name": "stderr",
     "output_type": "stream",
     "text": [
      "100%|██████████| 98/98 [00:02<00:00, 44.02it/s]\n",
      " 10%|█         | 10/98 [00:00<00:02, 43.93it/s]"
     ]
    },
    {
     "name": "stdout",
     "output_type": "stream",
     "text": [
      "EPOCH 8. Loss = [0.03432583 0.06966135 0.0807958  0.03445978]\n"
     ]
    },
    {
     "name": "stderr",
     "output_type": "stream",
     "text": [
      "100%|██████████| 98/98 [00:02<00:00, 44.01it/s]\n",
      " 10%|█         | 10/98 [00:00<00:01, 44.20it/s]"
     ]
    },
    {
     "name": "stdout",
     "output_type": "stream",
     "text": [
      "EPOCH 9. Loss = [0.03110462 0.10383237 0.06357545 0.0443901 ]\n"
     ]
    },
    {
     "name": "stderr",
     "output_type": "stream",
     "text": [
      "100%|██████████| 98/98 [00:02<00:00, 41.91it/s]\n",
      " 10%|█         | 10/98 [00:00<00:02, 43.41it/s]"
     ]
    },
    {
     "name": "stdout",
     "output_type": "stream",
     "text": [
      "EPOCH 10. Loss = [0.03336615 0.08445335 0.08199426 0.037691  ]\n"
     ]
    },
    {
     "name": "stderr",
     "output_type": "stream",
     "text": [
      "100%|██████████| 98/98 [00:02<00:00, 44.84it/s]\n",
      " 10%|█         | 10/98 [00:00<00:01, 44.27it/s]"
     ]
    },
    {
     "name": "stdout",
     "output_type": "stream",
     "text": [
      "EPOCH 11. Loss = [0.05110054 0.0789277  0.0855902  0.0406482 ]\n"
     ]
    },
    {
     "name": "stderr",
     "output_type": "stream",
     "text": [
      "100%|██████████| 98/98 [00:02<00:00, 44.46it/s]\n",
      " 10%|█         | 10/98 [00:00<00:01, 45.18it/s]"
     ]
    },
    {
     "name": "stdout",
     "output_type": "stream",
     "text": [
      "EPOCH 12. Loss = [0.06019981 0.08554279 0.0807667  0.0437829 ]\n"
     ]
    },
    {
     "name": "stderr",
     "output_type": "stream",
     "text": [
      "100%|██████████| 98/98 [00:02<00:00, 45.75it/s]\n",
      " 10%|█         | 10/98 [00:00<00:01, 45.60it/s]"
     ]
    },
    {
     "name": "stdout",
     "output_type": "stream",
     "text": [
      "EPOCH 13. Loss = [0.03302404 0.08868597 0.08330787 0.02841484]\n"
     ]
    },
    {
     "name": "stderr",
     "output_type": "stream",
     "text": [
      "100%|██████████| 98/98 [00:02<00:00, 45.46it/s]\n",
      " 10%|█         | 10/98 [00:00<00:01, 44.81it/s]"
     ]
    },
    {
     "name": "stdout",
     "output_type": "stream",
     "text": [
      "EPOCH 14. Loss = [0.03221969 0.08421759 0.08330392 0.04448966]\n"
     ]
    },
    {
     "name": "stderr",
     "output_type": "stream",
     "text": [
      "100%|██████████| 98/98 [00:02<00:00, 45.09it/s]\n",
      " 10%|█         | 10/98 [00:00<00:01, 45.07it/s]"
     ]
    },
    {
     "name": "stdout",
     "output_type": "stream",
     "text": [
      "EPOCH 15. Loss = [0.04168652 0.08129085 0.08740954 0.03827028]\n"
     ]
    },
    {
     "name": "stderr",
     "output_type": "stream",
     "text": [
      "100%|██████████| 98/98 [00:02<00:00, 44.07it/s]\n",
      " 10%|█         | 10/98 [00:00<00:01, 46.12it/s]"
     ]
    },
    {
     "name": "stdout",
     "output_type": "stream",
     "text": [
      "EPOCH 16. Loss = [0.03798224 0.08457448 0.08373997 0.03679835]\n"
     ]
    },
    {
     "name": "stderr",
     "output_type": "stream",
     "text": [
      "100%|██████████| 98/98 [00:02<00:00, 43.72it/s]\n",
      " 10%|█         | 10/98 [00:00<00:01, 45.34it/s]"
     ]
    },
    {
     "name": "stdout",
     "output_type": "stream",
     "text": [
      "EPOCH 17. Loss = [0.0508986  0.0838035  0.09040032 0.03765108]\n"
     ]
    },
    {
     "name": "stderr",
     "output_type": "stream",
     "text": [
      "100%|██████████| 98/98 [00:02<00:00, 45.69it/s]\n",
      " 10%|█         | 10/98 [00:00<00:01, 45.48it/s]"
     ]
    },
    {
     "name": "stdout",
     "output_type": "stream",
     "text": [
      "EPOCH 18. Loss = [0.03802212 0.09212455 0.08186989 0.04272753]\n"
     ]
    },
    {
     "name": "stderr",
     "output_type": "stream",
     "text": [
      "100%|██████████| 98/98 [00:02<00:00, 45.32it/s]\n",
      " 10%|█         | 10/98 [00:00<00:01, 45.61it/s]"
     ]
    },
    {
     "name": "stdout",
     "output_type": "stream",
     "text": [
      "EPOCH 19. Loss = [0.03156266 0.09832148 0.08899616 0.04031248]\n"
     ]
    },
    {
     "name": "stderr",
     "output_type": "stream",
     "text": [
      "100%|██████████| 98/98 [00:02<00:00, 43.67it/s]\n",
      "  8%|▊         | 8/98 [00:00<00:02, 37.28it/s]"
     ]
    },
    {
     "name": "stdout",
     "output_type": "stream",
     "text": [
      "EPOCH 20. Loss = [0.04329844 0.08500734 0.08685311 0.03281621]\n"
     ]
    },
    {
     "name": "stderr",
     "output_type": "stream",
     "text": [
      "100%|██████████| 98/98 [00:02<00:00, 42.83it/s]\n",
      "  8%|▊         | 8/98 [00:00<00:02, 34.82it/s]"
     ]
    },
    {
     "name": "stdout",
     "output_type": "stream",
     "text": [
      "EPOCH 21. Loss = [0.03122802 0.09343041 0.08550955 0.03998626]\n"
     ]
    },
    {
     "name": "stderr",
     "output_type": "stream",
     "text": [
      "100%|██████████| 98/98 [00:02<00:00, 44.00it/s]\n",
      " 10%|█         | 10/98 [00:00<00:02, 42.92it/s]"
     ]
    },
    {
     "name": "stdout",
     "output_type": "stream",
     "text": [
      "EPOCH 22. Loss = [0.03458705 0.0952558  0.08858592 0.04502565]\n"
     ]
    },
    {
     "name": "stderr",
     "output_type": "stream",
     "text": [
      "100%|██████████| 98/98 [00:02<00:00, 45.24it/s]\n",
      " 10%|█         | 10/98 [00:00<00:01, 44.88it/s]"
     ]
    },
    {
     "name": "stdout",
     "output_type": "stream",
     "text": [
      "EPOCH 23. Loss = [0.036885   0.08178587 0.08522086 0.03539747]\n"
     ]
    },
    {
     "name": "stderr",
     "output_type": "stream",
     "text": [
      "100%|██████████| 98/98 [00:02<00:00, 44.89it/s]\n",
      " 10%|█         | 10/98 [00:00<00:01, 45.52it/s]"
     ]
    },
    {
     "name": "stdout",
     "output_type": "stream",
     "text": [
      "EPOCH 24. Loss = [0.03891216 0.09124335 0.08268922 0.05006471]\n"
     ]
    },
    {
     "name": "stderr",
     "output_type": "stream",
     "text": [
      "100%|██████████| 98/98 [00:02<00:00, 43.86it/s]\n"
     ]
    }
   ],
   "source": [
    "train_cvae(model, optim, dataset, N_EPOCHS)"
   ]
  },
  {
   "cell_type": "code",
   "execution_count": 47,
   "metadata": {},
   "outputs": [],
   "source": [
    "X, y = get_tabular_data('white', path_to_data='../datasets')\n",
    "Xt = np.empty(X.shape)\n",
    "yt = np.empty(y.shape)\n",
    "\n",
    "unique, counts = np.unique(y, return_counts=True)\n",
    "y_val = dict(zip(unique, counts))\n",
    "for c, count in y_val.items():\n",
    "    Xt = np.append(Xt, generate_from_cvae(model, 150, c, N_CLASSES), axis=0)\n",
    "    yt = np.append(yt, np.ones(150) * c, axis=0).astype(int)"
   ]
  },
  {
   "cell_type": "code",
   "execution_count": 49,
   "metadata": {},
   "outputs": [
    {
     "ename": "TypeError",
     "evalue": "'StratifiedKFold' object is not callable",
     "output_type": "error",
     "traceback": [
      "\u001b[0;31m---------------------------------------------------------------------------\u001b[0m",
      "\u001b[0;31mTypeError\u001b[0m                                 Traceback (most recent call last)",
      "Cell \u001b[0;32mIn[49], line 1\u001b[0m\n\u001b[0;32m----> 1\u001b[0m \u001b[43mcross_validate\u001b[49m\u001b[43m(\u001b[49m\u001b[43mX\u001b[49m\u001b[43m,\u001b[49m\u001b[43m \u001b[49m\u001b[43my\u001b[49m\u001b[43m,\u001b[49m\u001b[43m \u001b[49m\u001b[43mRandomForestClassifier\u001b[49m\u001b[43m,\u001b[49m\u001b[43m \u001b[49m\u001b[38;5;124;43m'\u001b[39;49m\u001b[38;5;124;43mclf\u001b[39;49m\u001b[38;5;124;43m'\u001b[39;49m\u001b[43m,\u001b[49m\u001b[43m \u001b[49m\u001b[43mparams\u001b[49m\u001b[43m)\u001b[49m\n",
      "File \u001b[0;32m~/Code/VML/aphasia/Notebooks/../aphasia/models/tab_search.py:30\u001b[0m, in \u001b[0;36mcross_validate\u001b[0;34m(X, y, model, method, params)\u001b[0m\n\u001b[1;32m     28\u001b[0m \u001b[38;5;28;01mdef\u001b[39;00m \u001b[38;5;21mcross_validate\u001b[39m(X, y, model, method, params):\n\u001b[1;32m     29\u001b[0m     scores, predictions \u001b[38;5;241m=\u001b[39m [], []\n\u001b[0;32m---> 30\u001b[0m     cv \u001b[38;5;241m=\u001b[39m \u001b[43mget_cv\u001b[49m\u001b[43m(\u001b[49m\u001b[43mmethod\u001b[49m\u001b[43m)\u001b[49m\u001b[43m(\u001b[49m\u001b[43mNUM_CV_SPLITS\u001b[49m\u001b[43m)\u001b[49m\n\u001b[1;32m     31\u001b[0m     \u001b[38;5;28;01mfor\u001b[39;00m train_index, val_index \u001b[38;5;129;01min\u001b[39;00m cv\u001b[38;5;241m.\u001b[39msplit(X, y):\n\u001b[1;32m     32\u001b[0m         model_instance \u001b[38;5;241m=\u001b[39m model(\u001b[38;5;241m*\u001b[39m\u001b[38;5;241m*\u001b[39mparams)\n",
      "\u001b[0;31mTypeError\u001b[0m: 'StratifiedKFold' object is not callable"
     ]
    }
   ],
   "source": [
    "cross_validate(X, y, RandomForestClassifier, 'clf', params)"
   ]
  },
  {
   "cell_type": "code",
   "execution_count": 48,
   "metadata": {},
   "outputs": [
    {
     "data": {
      "image/png": "[encoded data removed]",
      "text/plain": [
       "<Figure size 800x600 with 2 Axes>"
      ]
     },
     "metadata": {},
     "output_type": "display_data"
    }
   ],
   "source": [
    "from sklearn.ensemble import RandomForestClassifier\n",
    "import json\n",
    "with open('../Pickle/params/rf.json') as file:\n",
    "    params = json.load(file)\n",
    "\n",
    "rf = RandomForestClassifier(**params)\n",
    "rf.fit(Xt, yt)\n",
    "pred = rf.predict(X)\n",
    "make_cm([(y, pred)])"
   ]
  },
  {
   "cell_type": "code",
   "execution_count": null,
   "metadata": {},
   "outputs": [],
   "source": []
  }
 ],
 "metadata": {
  "kernelspec": {
   "display_name": "Python 3",
   "language": "python",
   "name": "python3"
  },
  "language_info": {
   "codemirror_mode": {
    "name": "ipython",
    "version": 3
   },
   "file_extension": ".py",
   "mimetype": "text/x-python",
   "name": "python",
   "nbconvert_exporter": "python",
   "pygments_lexer": "ipython3",
   "version": "3.11.6"
  }
 },
 "nbformat": 4,
 "nbformat_minor": 2
}
