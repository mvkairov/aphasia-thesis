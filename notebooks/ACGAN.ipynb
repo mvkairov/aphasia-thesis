{
 "cells": [
  {
   "cell_type": "code",
   "execution_count": 7,
   "metadata": {},
   "outputs": [],
   "source": [
    "%load_ext autoreload\n",
    "%autoreload 2"
   ]
  },
  {
   "cell_type": "code",
   "execution_count": 8,
   "metadata": {},
   "outputs": [],
   "source": [
    "import sys\n",
    "sys.path.append('../')"
   ]
  },
  {
   "cell_type": "code",
   "execution_count": 20,
   "metadata": {},
   "outputs": [],
   "source": [
    "from aphasia.data.tabular import get_tabular_data\n",
    "from aphasia.models.acgan import ACGAN\n",
    "from aphasia.models.train import train_acgan, generate_from_acgan\n",
    "\n",
    "from sklearn.preprocessing import label_binarize\n",
    "import tensorflow as tf\n",
    "import keras\n",
    "import wandb\n",
    "import numpy as np\n",
    "import matplotlib.pyplot as plt"
   ]
  },
  {
   "cell_type": "code",
   "execution_count": 10,
   "metadata": {},
   "outputs": [],
   "source": [
    "BATCH_SIZE = 4\n",
    "N_CLASSES = 7\n",
    "LATENT_DIM = 7\n",
    "N_EPOCHS = 25"
   ]
  },
  {
   "cell_type": "code",
   "execution_count": 12,
   "metadata": {},
   "outputs": [],
   "source": [
    "X, y = get_tabular_data('white', path_to_data='../datasets')\n",
    "y = tf.convert_to_tensor(label_binarize(y, classes=list(range(N_CLASSES))), dtype=tf.float32)\n",
    "\n",
    "dataset = tf.data.Dataset.from_tensor_slices((X, y)).batch(BATCH_SIZE)"
   ]
  },
  {
   "cell_type": "code",
   "execution_count": 16,
   "metadata": {},
   "outputs": [],
   "source": [
    "model = ACGAN(X.shape[1], LATENT_DIM, N_CLASSES)\n",
    "gen_opt = keras.optimizers.legacy.RMSprop()\n",
    "dis_opt = keras.optimizers.legacy.RMSprop()"
   ]
  },
  {
   "cell_type": "code",
   "execution_count": 17,
   "metadata": {},
   "outputs": [
    {
     "name": "stderr",
     "output_type": "stream",
     "text": [
      "  0%|          | 0/98 [00:00<?, ?it/s]"
     ]
    },
    {
     "name": "stderr",
     "output_type": "stream",
     "text": [
      "  9%|▉         | 9/98 [00:00<00:03, 28.34it/s]"
     ]
    },
    {
     "name": "stdout",
     "output_type": "stream",
     "text": [
      "EPOCH 0. Loss: D=5.242369174957275, G=2.500140428543091\n"
     ]
    },
    {
     "name": "stderr",
     "output_type": "stream",
     "text": [
      "100%|██████████| 98/98 [00:03<00:00, 29.76it/s]\n",
      "  8%|▊         | 8/98 [00:00<00:02, 30.84it/s]"
     ]
    },
    {
     "name": "stdout",
     "output_type": "stream",
     "text": [
      "EPOCH 1. Loss: D=4.982619762420654, G=2.5752925872802734\n"
     ]
    },
    {
     "name": "stderr",
     "output_type": "stream",
     "text": [
      "100%|██████████| 98/98 [00:03<00:00, 30.78it/s]\n",
      "  8%|▊         | 8/98 [00:00<00:02, 30.91it/s]"
     ]
    },
    {
     "name": "stdout",
     "output_type": "stream",
     "text": [
      "EPOCH 2. Loss: D=4.995631217956543, G=2.5818333625793457\n"
     ]
    },
    {
     "name": "stderr",
     "output_type": "stream",
     "text": [
      "100%|██████████| 98/98 [00:03<00:00, 30.60it/s]\n",
      "  8%|▊         | 8/98 [00:00<00:02, 30.78it/s]"
     ]
    },
    {
     "name": "stdout",
     "output_type": "stream",
     "text": [
      "EPOCH 3. Loss: D=5.065394401550293, G=2.571805953979492\n"
     ]
    },
    {
     "name": "stderr",
     "output_type": "stream",
     "text": [
      "100%|██████████| 98/98 [00:03<00:00, 30.82it/s]\n",
      "  8%|▊         | 8/98 [00:00<00:02, 30.81it/s]"
     ]
    },
    {
     "name": "stdout",
     "output_type": "stream",
     "text": [
      "EPOCH 4. Loss: D=5.155057907104492, G=2.5048961639404297\n"
     ]
    },
    {
     "name": "stderr",
     "output_type": "stream",
     "text": [
      "100%|██████████| 98/98 [00:03<00:00, 30.70it/s]\n",
      "  8%|▊         | 8/98 [00:00<00:02, 30.49it/s]"
     ]
    },
    {
     "name": "stdout",
     "output_type": "stream",
     "text": [
      "EPOCH 5. Loss: D=5.256931304931641, G=2.5814225673675537\n"
     ]
    },
    {
     "name": "stderr",
     "output_type": "stream",
     "text": [
      "100%|██████████| 98/98 [00:03<00:00, 30.42it/s]\n",
      "  8%|▊         | 8/98 [00:00<00:02, 30.17it/s]"
     ]
    },
    {
     "name": "stdout",
     "output_type": "stream",
     "text": [
      "EPOCH 6. Loss: D=5.308345317840576, G=2.540541648864746\n"
     ]
    },
    {
     "name": "stderr",
     "output_type": "stream",
     "text": [
      "100%|██████████| 98/98 [00:03<00:00, 30.60it/s]\n",
      "  8%|▊         | 8/98 [00:00<00:02, 30.81it/s]"
     ]
    },
    {
     "name": "stdout",
     "output_type": "stream",
     "text": [
      "EPOCH 7. Loss: D=5.362786293029785, G=2.542466402053833\n"
     ]
    },
    {
     "name": "stderr",
     "output_type": "stream",
     "text": [
      "100%|██████████| 98/98 [00:03<00:00, 27.98it/s]\n",
      "  7%|▋         | 7/98 [00:00<00:02, 30.41it/s]"
     ]
    },
    {
     "name": "stdout",
     "output_type": "stream",
     "text": [
      "EPOCH 8. Loss: D=5.295381546020508, G=2.5266621112823486\n"
     ]
    },
    {
     "name": "stderr",
     "output_type": "stream",
     "text": [
      "100%|██████████| 98/98 [00:03<00:00, 28.84it/s]\n",
      "  8%|▊         | 8/98 [00:00<00:02, 31.70it/s]"
     ]
    },
    {
     "name": "stdout",
     "output_type": "stream",
     "text": [
      "EPOCH 9. Loss: D=5.105389595031738, G=2.443068027496338\n"
     ]
    },
    {
     "name": "stderr",
     "output_type": "stream",
     "text": [
      "100%|██████████| 98/98 [00:03<00:00, 31.35it/s]\n",
      "  8%|▊         | 8/98 [00:00<00:02, 31.48it/s]"
     ]
    },
    {
     "name": "stdout",
     "output_type": "stream",
     "text": [
      "EPOCH 10. Loss: D=4.954637050628662, G=2.308504343032837\n"
     ]
    },
    {
     "name": "stderr",
     "output_type": "stream",
     "text": [
      "100%|██████████| 98/98 [00:03<00:00, 31.21it/s]\n",
      "  8%|▊         | 8/98 [00:00<00:02, 31.55it/s]"
     ]
    },
    {
     "name": "stdout",
     "output_type": "stream",
     "text": [
      "EPOCH 11. Loss: D=4.895901203155518, G=2.2744975090026855\n"
     ]
    },
    {
     "name": "stderr",
     "output_type": "stream",
     "text": [
      "100%|██████████| 98/98 [00:03<00:00, 30.51it/s]\n",
      "  8%|▊         | 8/98 [00:00<00:02, 30.85it/s]"
     ]
    },
    {
     "name": "stdout",
     "output_type": "stream",
     "text": [
      "EPOCH 12. Loss: D=4.862809181213379, G=2.230384349822998\n"
     ]
    },
    {
     "name": "stderr",
     "output_type": "stream",
     "text": [
      "100%|██████████| 98/98 [00:03<00:00, 28.05it/s]\n",
      "  7%|▋         | 7/98 [00:00<00:03, 30.16it/s]"
     ]
    },
    {
     "name": "stdout",
     "output_type": "stream",
     "text": [
      "EPOCH 13. Loss: D=4.69838809967041, G=2.082599639892578\n"
     ]
    },
    {
     "name": "stderr",
     "output_type": "stream",
     "text": [
      "100%|██████████| 98/98 [00:03<00:00, 30.51it/s]\n",
      "  7%|▋         | 7/98 [00:00<00:02, 30.43it/s]"
     ]
    },
    {
     "name": "stdout",
     "output_type": "stream",
     "text": [
      "EPOCH 14. Loss: D=4.580257415771484, G=2.061161518096924\n"
     ]
    },
    {
     "name": "stderr",
     "output_type": "stream",
     "text": [
      "100%|██████████| 98/98 [00:03<00:00, 30.74it/s]\n",
      "  8%|▊         | 8/98 [00:00<00:02, 30.69it/s]"
     ]
    },
    {
     "name": "stdout",
     "output_type": "stream",
     "text": [
      "EPOCH 15. Loss: D=4.521069526672363, G=1.959747552871704\n"
     ]
    },
    {
     "name": "stderr",
     "output_type": "stream",
     "text": [
      "100%|██████████| 98/98 [00:03<00:00, 30.26it/s]\n",
      "  7%|▋         | 7/98 [00:00<00:02, 30.50it/s]"
     ]
    },
    {
     "name": "stdout",
     "output_type": "stream",
     "text": [
      "EPOCH 16. Loss: D=4.720518112182617, G=2.111922025680542\n"
     ]
    },
    {
     "name": "stderr",
     "output_type": "stream",
     "text": [
      "100%|██████████| 98/98 [00:03<00:00, 30.03it/s]\n",
      "  7%|▋         | 7/98 [00:00<00:03, 29.62it/s]"
     ]
    },
    {
     "name": "stdout",
     "output_type": "stream",
     "text": [
      "EPOCH 17. Loss: D=4.494129657745361, G=1.8784747123718262\n"
     ]
    },
    {
     "name": "stderr",
     "output_type": "stream",
     "text": [
      "100%|██████████| 98/98 [00:03<00:00, 30.61it/s]\n",
      "  8%|▊         | 8/98 [00:00<00:02, 30.86it/s]"
     ]
    },
    {
     "name": "stdout",
     "output_type": "stream",
     "text": [
      "EPOCH 18. Loss: D=4.5153656005859375, G=1.8712513446807861\n"
     ]
    },
    {
     "name": "stderr",
     "output_type": "stream",
     "text": [
      "100%|██████████| 98/98 [00:03<00:00, 30.50it/s]\n",
      "  7%|▋         | 7/98 [00:00<00:02, 30.43it/s]"
     ]
    },
    {
     "name": "stdout",
     "output_type": "stream",
     "text": [
      "EPOCH 19. Loss: D=4.6571044921875, G=1.881865382194519\n"
     ]
    },
    {
     "name": "stderr",
     "output_type": "stream",
     "text": [
      "100%|██████████| 98/98 [00:03<00:00, 30.78it/s]\n",
      "  7%|▋         | 7/98 [00:00<00:02, 30.50it/s]"
     ]
    },
    {
     "name": "stdout",
     "output_type": "stream",
     "text": [
      "EPOCH 20. Loss: D=4.5339202880859375, G=1.8656516075134277\n"
     ]
    },
    {
     "name": "stderr",
     "output_type": "stream",
     "text": [
      "100%|██████████| 98/98 [00:03<00:00, 30.35it/s]\n",
      "  8%|▊         | 8/98 [00:00<00:02, 30.51it/s]"
     ]
    },
    {
     "name": "stdout",
     "output_type": "stream",
     "text": [
      "EPOCH 21. Loss: D=4.462920188903809, G=1.8656574487686157\n"
     ]
    },
    {
     "name": "stderr",
     "output_type": "stream",
     "text": [
      "100%|██████████| 98/98 [00:03<00:00, 30.33it/s]\n",
      "  7%|▋         | 7/98 [00:00<00:02, 30.56it/s]"
     ]
    },
    {
     "name": "stdout",
     "output_type": "stream",
     "text": [
      "EPOCH 22. Loss: D=4.471231460571289, G=1.8710989952087402\n"
     ]
    },
    {
     "name": "stderr",
     "output_type": "stream",
     "text": [
      "100%|██████████| 98/98 [00:03<00:00, 30.82it/s]\n",
      "  7%|▋         | 7/98 [00:00<00:02, 30.47it/s]"
     ]
    },
    {
     "name": "stdout",
     "output_type": "stream",
     "text": [
      "EPOCH 23. Loss: D=4.460213661193848, G=1.8746410608291626\n"
     ]
    },
    {
     "name": "stderr",
     "output_type": "stream",
     "text": [
      "100%|██████████| 98/98 [00:03<00:00, 30.76it/s]\n",
      "  7%|▋         | 7/98 [00:00<00:02, 30.46it/s]"
     ]
    },
    {
     "name": "stdout",
     "output_type": "stream",
     "text": [
      "EPOCH 24. Loss: D=4.5167436599731445, G=1.8770737648010254\n"
     ]
    },
    {
     "name": "stderr",
     "output_type": "stream",
     "text": [
      "100%|██████████| 98/98 [00:03<00:00, 30.77it/s]\n"
     ]
    }
   ],
   "source": [
    "train_acgan(model, gen_opt, dis_opt, dataset, N_EPOCHS)"
   ]
  },
  {
   "cell_type": "code",
   "execution_count": 19,
   "metadata": {},
   "outputs": [],
   "source": [
    "test_model = keras.models.clone_model(model)"
   ]
  },
  {
   "cell_type": "code",
   "execution_count": 33,
   "metadata": {},
   "outputs": [],
   "source": [
    "X, y = get_tabular_data('white', path_to_data='../datasets')\n",
    "\n",
    "unique, counts = np.unique(y, return_counts=True)\n",
    "y_val = dict(zip(unique, counts))\n",
    "for c, count in y_val.items():\n",
    "    X = np.append(X, generate_from_acgan(model, 150 - count, c, N_CLASSES), axis=0)\n",
    "    y = np.append(y, np.ones(150 - count) * c, axis=0)"
   ]
  },
  {
   "cell_type": "code",
   "execution_count": 34,
   "metadata": {},
   "outputs": [],
   "source": [
    "from aphasia.models.tab_search import search_cv, cross_validate\n",
    "from aphasia.common.utils import make_cm"
   ]
  },
  {
   "cell_type": "code",
   "execution_count": 36,
   "metadata": {},
   "outputs": [
    {
     "data": {
      "image/png": "[encoded data removed]",
      "text/plain": [
       "<Figure size 800x600 with 2 Axes>"
      ]
     },
     "metadata": {},
     "output_type": "display_data"
    }
   ],
   "source": [
    "fake_logits, aux_logits = test_model.discriminate(X)\n",
    "predictions = np.argmax(aux_logits, axis=1)\n",
    "make_cm([(y, predictions)])"
   ]
  },
  {
   "cell_type": "code",
   "execution_count": null,
   "metadata": {},
   "outputs": [],
   "source": []
  }
 ],
 "metadata": {
  "kernelspec": {
   "display_name": "Python 3",
   "language": "python",
   "name": "python3"
  },
  "language_info": {
   "codemirror_mode": {
    "name": "ipython",
    "version": 3
   },
   "file_extension": ".py",
   "mimetype": "text/x-python",
   "name": "python",
   "nbconvert_exporter": "python",
   "pygments_lexer": "ipython3",
   "version": "3.11.6"
  }
 },
 "nbformat": 4,
 "nbformat_minor": 2
}
